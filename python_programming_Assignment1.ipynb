{
  "nbformat": 4,
  "nbformat_minor": 0,
  "metadata": {
    "colab": {
      "provenance": []
    },
    "kernelspec": {
      "name": "python3",
      "display_name": "Python 3"
    },
    "language_info": {
      "name": "python"
    }
  },
  "cells": [
    {
      "cell_type": "code",
      "source": [
        "## 1.Write a Python program to print \"Hello Python\"?\n",
        "print (\"hello python\")"
      ],
      "metadata": {
        "colab": {
          "base_uri": "https://localhost:8080/"
        },
        "id": "NG_BFwQ0yrAL",
        "outputId": "3bf267b7-b059-4590-d4e3-bbf5769940bf"
      },
      "execution_count": null,
      "outputs": [
        {
          "output_type": "stream",
          "name": "stdout",
          "text": [
            "hello python\n"
          ]
        }
      ]
    },
    {
      "cell_type": "code",
      "source": [
        "## 2.Write a Python program to do arithmetical operations addition and division.?\n",
        "a = float(input(\"Enter first number: \"))\n",
        "b = float(input(\"Enter second number: \"))\n",
        "# Addition of two numbers\n",
        "sum = a + b\n",
        "# Division of two numbers\n",
        "division = a / b\n",
        "print('Sum of ',a ,'and' ,b ,'is :',sum)\n",
        "print('Division of ',a ,'and' ,b ,'is :',division)"
      ],
      "metadata": {
        "colab": {
          "base_uri": "https://localhost:8080/"
        },
        "id": "wG78vyF-5YtN",
        "outputId": "b0345166-a6c7-4359-bd02-cc7cec8ebf6f"
      },
      "execution_count": null,
      "outputs": [
        {
          "output_type": "stream",
          "name": "stdout",
          "text": [
            "Enter first number: 32\n",
            "Enter second number: 32\n",
            "Sum of  32.0 and 32.0 is : 64.0\n",
            "Division of  32.0 and 32.0 is : 1.0\n"
          ]
        }
      ]
    },
    {
      "cell_type": "code",
      "source": [
        "## 3.Write a Python program to find the area of a triangle?\n",
        "a = float(input('Enter first side: '))\n",
        "b = float(input('Enter second side: '))\n",
        "c = float(input('Enter third side: '))\n",
        "\n",
        "# calculate the semi-perimeter\n",
        "s = (a + b + c) / 2\n",
        "\n",
        "# calculate the area\n",
        "area = (s*(s-a)*(s-b)*(s-c)) ** 0.5\n",
        "print('The area of the triangle is %0.2f' %area)\n",
        " # %0.2f floating-point specifies at least 0 wide and 2 numbers after the decimal\n"
      ],
      "metadata": {
        "colab": {
          "base_uri": "https://localhost:8080/"
        },
        "id": "hRyrAgsG7Nvt",
        "outputId": "75184068-2fa0-4032-c2f0-3614c90c77a6"
      },
      "execution_count": null,
      "outputs": [
        {
          "output_type": "stream",
          "name": "stdout",
          "text": [
            "Enter first side: 6\n",
            "Enter second side: 9\n",
            "Enter third side: 5\n",
            "The area of the triangle is 14.14\n"
          ]
        }
      ]
    },
    {
      "cell_type": "code",
      "source": [
        "## 4.Write a Python program to swap two variables?\n",
        "x = 5\n",
        "y = 10\n",
        "\n",
        "x, y = y, x\n",
        "print(\"x =\", x)\n",
        "print(\"y =\", y)\n"
      ],
      "metadata": {
        "colab": {
          "base_uri": "https://localhost:8080/"
        },
        "id": "89eiaXLB7WPV",
        "outputId": "f6b1e972-d16e-42cf-c135-2418a687d421"
      },
      "execution_count": null,
      "outputs": [
        {
          "output_type": "stream",
          "name": "stdout",
          "text": [
            "x = 10\n",
            "y = 5\n"
          ]
        }
      ]
    },
    {
      "cell_type": "code",
      "source": [
        "## 5.Write a Python program to generate a random number?\n",
        "# importing the random module\n",
        "import random\n",
        "print(random.randint(0,99))\n"
      ],
      "metadata": {
        "colab": {
          "base_uri": "https://localhost:8080/"
        },
        "id": "kH46pLEl7XN2",
        "outputId": "bb8ba26e-3377-4ba3-dae8-abf96933cf1d"
      },
      "execution_count": null,
      "outputs": [
        {
          "output_type": "stream",
          "name": "stdout",
          "text": [
            "17\n"
          ]
        }
      ]
    },
    {
      "cell_type": "markdown",
      "source": [
        "\n",
        "\\\n",
        "\n",
        "\n",
        "\n"
      ],
      "metadata": {
        "id": "rt1zaokS4tJl"
      }
    }
  ]
}